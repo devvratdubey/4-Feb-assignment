{
 "cells": [
  {
   "cell_type": "code",
   "execution_count": 1,
   "id": "ff5d8bf4-af68-4f1e-9e25-2dc67d12ce40",
   "metadata": {},
   "outputs": [
    {
     "name": "stdout",
     "output_type": "stream",
     "text": [
      "[('Virat Kohli', 24936), ('Jack Kallis', 25534), ('Ricky Pointing', 27483), ('Sachin Tendulkar', 34357)]\n"
     ]
    }
   ],
   "source": [
    "#q1 answer\n",
    "a=[(\"Sachin Tendulkar\",34357),(\"Ricky Pointing\",27483),(\"Jack Kallis\",25534),(\"Virat Kohli\",24936)]\n",
    "d=dict(a)\n",
    "x=sorted(d,key=lambda a:d[a])\n",
    "y=[d[i] for i in x]\n",
    "z=list(zip(x,y))\n",
    "print(z)"
   ]
  },
  {
   "cell_type": "code",
   "execution_count": 2,
   "id": "685d9e23-65b6-466f-ba5f-da40ed5015e6",
   "metadata": {},
   "outputs": [
    {
     "name": "stdout",
     "output_type": "stream",
     "text": [
      "[1, 4, 9, 16, 25, 36, 49, 64, 81, 100]\n"
     ]
    }
   ],
   "source": [
    "#q2 answer\n",
    "b=[1,2,3,4,5,6,7,8,9,10]\n",
    "result=list(map(lambda a:a**2,b))\n",
    "print(result)\n"
   ]
  },
  {
   "cell_type": "code",
   "execution_count": 3,
   "id": "915f8bf3-52e5-4c36-b947-2f175c6da53c",
   "metadata": {},
   "outputs": [
    {
     "data": {
      "text/plain": [
       "('1', '2', '3', '4', '5', '6', '7', '8', '9', '10')"
      ]
     },
     "execution_count": 3,
     "metadata": {},
     "output_type": "execute_result"
    }
   ],
   "source": [
    "#q3 answer\n",
    "tuple(map(lambda a:str(a),[1,2,3,4,5,6,7,8,9,10]))"
   ]
  },
  {
   "cell_type": "code",
   "execution_count": 4,
   "id": "f076c3d8-c0ff-41fd-9846-dda318c15fed",
   "metadata": {},
   "outputs": [
    {
     "data": {
      "text/plain": [
       "15511210043330985984000000"
      ]
     },
     "execution_count": 4,
     "metadata": {},
     "output_type": "execute_result"
    }
   ],
   "source": [
    "#q4 answer\n",
    "from functools import reduce\n",
    "reduce(lambda x,y:x*y,range(1,26))"
   ]
  },
  {
   "cell_type": "code",
   "execution_count": 5,
   "id": "7974a397-a753-46d4-8df2-5eb9149d5b71",
   "metadata": {},
   "outputs": [
    {
     "data": {
      "text/plain": [
       "[6, 60, 90, 120]"
      ]
     },
     "execution_count": 5,
     "metadata": {},
     "output_type": "execute_result"
    }
   ],
   "source": [
    "#q5 answer\n",
    "list(filter(lambda a:a%2==0 and a%3==0,[2,3,6,9,27,60,90,120,55,46]))"
   ]
  },
  {
   "cell_type": "code",
   "execution_count": 6,
   "id": "e78d8e7d-d725-4da9-8ed3-f101e86df363",
   "metadata": {},
   "outputs": [
    {
     "data": {
      "text/plain": [
       "['php', 'aba', 'radar', 'level']"
      ]
     },
     "execution_count": 6,
     "metadata": {},
     "output_type": "execute_result"
    }
   ],
   "source": [
    "#q6 answer\n",
    "list(filter(lambda i:i==i[::-1],[\"python\",\"php\",\"aba\",\"radar\",\"level\"]))"
   ]
  },
  {
   "cell_type": "code",
   "execution_count": null,
   "id": "caaf7243-5131-49b5-891f-59d7579614fe",
   "metadata": {},
   "outputs": [],
   "source": []
  }
 ],
 "metadata": {
  "kernelspec": {
   "display_name": "Python 3 (ipykernel)",
   "language": "python",
   "name": "python3"
  },
  "language_info": {
   "codemirror_mode": {
    "name": "ipython",
    "version": 3
   },
   "file_extension": ".py",
   "mimetype": "text/x-python",
   "name": "python",
   "nbconvert_exporter": "python",
   "pygments_lexer": "ipython3",
   "version": "3.10.8"
  }
 },
 "nbformat": 4,
 "nbformat_minor": 5
}
